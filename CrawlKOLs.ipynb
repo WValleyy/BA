{
 "cells": [
  {
   "cell_type": "markdown",
   "metadata": {},
   "source": [
    "# Install and import lib"
   ]
  },
  {
   "cell_type": "code",
   "execution_count": null,
   "metadata": {},
   "outputs": [],
   "source": [
    "%pip install tweety-ns\n",
    "%pip install https://github.com/mahrtayyab/tweety/archive/main.zip --upgrade "
   ]
  },
  {
   "cell_type": "code",
   "execution_count": 1,
   "metadata": {},
   "outputs": [],
   "source": [
    "import asyncio\n",
    "import csv\n",
    "from twitter_search import read_keywords_from_file, run_search_user, filter_users, login,crawl_tweets_from_KOLs"
   ]
  },
  {
   "cell_type": "markdown",
   "metadata": {},
   "source": [
    "# Login\n"
   ]
  },
  {
   "cell_type": "code",
   "execution_count": 2,
   "metadata": {},
   "outputs": [],
   "source": [
    "app = await login()"
   ]
  },
  {
   "cell_type": "markdown",
   "metadata": {},
   "source": [
    "# Search user by keyword and save to csv"
   ]
  },
  {
   "cell_type": "code",
   "execution_count": 8,
   "metadata": {},
   "outputs": [
    {
     "name": "stdout",
     "output_type": "stream",
     "text": [
      "Appended 11 users to twitter_users_Lending Protocols.csv\n",
      "Appended 600 users to twitter_users_Stablecoin.csv\n"
     ]
    }
   ],
   "source": [
    "\n",
    "\n",
    "\n",
    "# Run the search and save function\n",
    "keywords = read_keywords_from_file(\"keywords.txt\")\n",
    "await run_search_user(keywords, app, pages_num = 30, wait_times = 10, cursor_ = None) #cusor is the page that looking up-to"
   ]
  },
  {
   "cell_type": "markdown",
   "metadata": {},
   "source": [
    "# filter user to KOLs"
   ]
  },
  {
   "cell_type": "code",
   "execution_count": 3,
   "metadata": {},
   "outputs": [
    {
     "name": "stdout",
     "output_type": "stream",
     "text": [
      "Keyword 'EVM': 1 users remaining after filtering.\n",
      "Keyword 'Ethereum Virtual Machine': 0 users remaining after filtering.\n",
      "Keyword 'Cross-chain': 4 users remaining after filtering.\n",
      "Keyword 'Tokenomics': 3 users remaining after filtering.\n",
      "Keyword 'zk-rollup': 0 users remaining after filtering.\n",
      "Keyword 'Proof of Stake': 0 users remaining after filtering.\n",
      "Keyword 'Proof of Work': 2 users remaining after filtering.\n",
      "Keyword 'Layer-1 Protocols': 0 users remaining after filtering.\n",
      "Keyword 'Layer-2 Protocols': 0 users remaining after filtering.\n",
      "Keyword 'Liquidity Mining': 0 users remaining after filtering.\n",
      "Keyword 'Yield Farming': 3 users remaining after filtering.\n",
      "Keyword 'Automated Market Maker': 0 users remaining after filtering.\n",
      "Keyword 'Decentralized Exchanges': 2 users remaining after filtering.\n",
      "Keyword 'DEX': 2 users remaining after filtering.\n",
      "Keyword 'Staking Rewards': 0 users remaining after filtering.\n",
      "Keyword 'Lending Protocols': 0 users remaining after filtering.\n",
      "Keyword 'Stablecoin': 1 users remaining after filtering.\n",
      "Filtered users saved to filtered_twitter_users.csv\n",
      "Total filtered users: 18\n"
     ]
    },
    {
     "data": {
      "text/plain": [
       "'filtered_twitter_users.csv'"
      ]
     },
     "execution_count": 3,
     "metadata": {},
     "output_type": "execute_result"
    }
   ],
   "source": [
    "keywords = read_keywords_from_file(\"keywords.txt\")\n",
    "filter_users(keywords)"
   ]
  },
  {
   "cell_type": "markdown",
   "metadata": {},
   "source": [
    "# Crawl tweet\n"
   ]
  },
  {
   "cell_type": "code",
   "execution_count": null,
   "metadata": {},
   "outputs": [],
   "source": [
    "# # Basic Tweet Information\n",
    "# 'id': int                # The unique ID of the tweet (assigned by Twitter).\n",
    "# 'created_on': datetime   # The date and time when the tweet was created.\n",
    "# 'date': datetime         # The date and time when the tweet was created (same as created_on).\n",
    "\n",
    "# # Main Content of the Tweet\n",
    "# 'text': str              # The text content of the tweet (original text).\n",
    "# 'rich_text': RichText    # The rich text content (if any), which may include HTML formatting or other styles.\n",
    "# 'author': User           # The user object containing information about the tweet's author (e.g., username, ID, etc.).\n",
    "\n",
    "# # Tweet Interaction (Retweets, Quotes, Replies)\n",
    "# 'is_retweet': bool              # If `True`, the tweet is a retweet of another tweet.\n",
    "# 'retweeted_tweet_id': int       # The ID of the original tweet that was retweeted (if applicable).\n",
    "# 'is_quoted': bool               # If `True`, the tweet is a quoted tweet.\n",
    "# 'quoted_tweet_id': int          # The ID of the tweet that was quoted (if applicable).\n",
    "# 'is_reply': bool                # If `True`, the tweet is a reply to another tweet.\n",
    "# 'replied_to': Tweet | str       # The tweet being replied to (if applicable), or the user ID if it is a reply to a user.\n",
    "\n",
    "# # Sensitive Content Information\n",
    "# 'is_sensitive': bool            # If `True`, the tweet contains sensitive content (e.g., graphic images, NSFW).\n",
    "\n",
    "# # Engagement Metrics\n",
    "# 'reply_counts': int            # The number of times someone has replied to this tweet.\n",
    "# 'quote_counts': int            # The number of times this tweet has been quoted.\n",
    "# 'bookmark_count': int          # The number of times this tweet has been bookmarked.\n",
    "# 'views': int                   # The number of times this tweet has been viewed.\n",
    "# 'likes': int                   # The number of likes (favorites) this tweet has received.\n",
    "# 'language': str                # The language of the tweet as identified by Twitter (e.g., 'en' for English).\n",
    "# 'place': Place                 # The location or place associated with the tweet, if available.\n",
    "\n",
    "# # Retweet Information\n",
    "# 'retweet_counts': int          # The number of times this tweet has been retweeted.\n",
    "\n",
    "# # Source and Moderation Information\n",
    "# 'source': str                  # The source application used to post the tweet (e.g., \"Twitter Web App\").\n",
    "# 'has_moderated_replies': bool  # If `True`, replies to the tweet are moderated by the author.\n",
    "\n",
    "# # User Interaction Information\n",
    "# 'is_liked': bool               # If `True`, the authenticated user has liked this tweet.\n",
    "# 'is_retweeted': bool           # If `True`, the authenticated user has retweeted this tweet.\n",
    "# 'can_reply': bool              # If `True`, the authenticated user is allowed to reply to this tweet.\n",
    "\n",
    "# # Broadcast and Edit Information\n",
    "# 'broadcast': Broadcast | None  # Information about the broadcast (if the tweet is part of a broadcast).\n",
    "# 'edit_control': EditControl | None  # Information about the tweet's edit control (if it has been edited).\n",
    "# 'has_newer_version': bool      # If `True`, this tweet has been edited, and there is a newer version of it.\n",
    "\n",
    "# # Additional Tweet Metadata\n",
    "# 'audio_space_id': str          # The ID of the Audio Space associated with the tweet (if applicable).\n",
    "# 'pool': Pool | None            # The pool associated with the tweet (if applicable).\n",
    "# 'community': Community | None  # The community this tweet is a part of (if applicable).\n",
    "\n",
    "# # Media and Mentions\n",
    "# 'media': list[Media]          # A list of media objects (e.g., images, videos) attached to the tweet.\n",
    "# 'user_mentions': list[ShortUser]  # A list of users mentioned in the tweet.\n",
    "# 'urls': list[URL]             # A list of URLs mentioned in the tweet.\n",
    "# 'hashtags': list[Hashtag]      # A list of hashtags mentioned in the tweet.\n",
    "# 'symbols': list[Symbol]       # A list of symbols (e.g., stock symbols) mentioned in the tweet.\n",
    "\n",
    "# # Community and Thread Information\n",
    "# 'community_note': str | None   # A community note posted in response to the tweet (if applicable).\n",
    "# 'url': str                     # The URL of the tweet.\n",
    "# 'threads': list[Tweet]         # A list of tweets in the thread of this tweet.\n",
    "# 'comments': list[ConversationThread]  # A list of replies or comments sent in response to this tweet.\n"
   ]
  },
  {
   "cell_type": "code",
   "execution_count": 4,
   "metadata": {},
   "outputs": [
    {
     "name": "stdout",
     "output_type": "stream",
     "text": [
      "Fetching tweets for user: JSDRAM\n",
      "Saved 18 tweets to final_tweet.csv.\n"
     ]
    }
   ],
   "source": [
    "\n",
    "input_file_path = \"filtered_twitter_users.csv\"\n",
    "output_file_path =\"final_tweet.csv\"\n",
    "await crawl_tweets_from_KOLs(input_file_path, output_file_path, app, pages=10, replies=False, wait_time=2, cursor=None)"
   ]
  },
  {
   "cell_type": "code",
   "execution_count": null,
   "metadata": {},
   "outputs": [],
   "source": [
    "user profile"
   ]
  }
 ],
 "metadata": {
  "kernelspec": {
   "display_name": "Python 3",
   "language": "python",
   "name": "python3"
  },
  "language_info": {
   "codemirror_mode": {
    "name": "ipython",
    "version": 3
   },
   "file_extension": ".py",
   "mimetype": "text/x-python",
   "name": "python",
   "nbconvert_exporter": "python",
   "pygments_lexer": "ipython3",
   "version": "3.13.1"
  }
 },
 "nbformat": 4,
 "nbformat_minor": 2
}
