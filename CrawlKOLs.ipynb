{
 "cells": [
  {
   "cell_type": "markdown",
   "metadata": {},
   "source": [
    "# Install and import lib"
   ]
  },
  {
   "cell_type": "code",
   "execution_count": 1,
   "metadata": {},
   "outputs": [
    {
     "name": "stdout",
     "output_type": "stream",
     "text": [
      "Collecting tweety-ns\n",
      "  Downloading tweety_ns-2.0.8-py3-none-any.whl.metadata (2.1 kB)\n",
      "Collecting beautifulsoup4~=4.12 (from beautifulsoup4[lxml]~=4.12->tweety-ns)\n",
      "  Downloading beautifulsoup4-4.12.3-py3-none-any.whl.metadata (3.8 kB)\n",
      "Requirement already satisfied: openpyxl in /Users/quocdetran/miniforge3/lib/python3.10/site-packages (from tweety-ns) (3.1.2)\n",
      "Requirement already satisfied: httpx[http2] in /Users/quocdetran/miniforge3/lib/python3.10/site-packages (from tweety-ns) (0.27.0)\n",
      "Collecting dateutils (from tweety-ns)\n",
      "  Downloading dateutils-0.6.12-py2.py3-none-any.whl.metadata (1.3 kB)\n",
      "Collecting anticaptchaofficial (from tweety-ns)\n",
      "  Downloading anticaptchaofficial-1.0.62-py3-none-any.whl.metadata (11 kB)\n",
      "Collecting capsolver (from tweety-ns)\n",
      "  Downloading capsolver-1.0.7-py3-none-any.whl.metadata (1.9 kB)\n",
      "Collecting 2captcha-python (from tweety-ns)\n",
      "  Downloading 2captcha_python-1.5.0-py3-none-any.whl.metadata (26 kB)\n",
      "Collecting python-magic (from tweety-ns)\n",
      "  Downloading python_magic-0.4.27-py2.py3-none-any.whl.metadata (5.8 kB)\n",
      "Requirement already satisfied: soupsieve>1.2 in /Users/quocdetran/miniforge3/lib/python3.10/site-packages (from beautifulsoup4~=4.12->beautifulsoup4[lxml]~=4.12->tweety-ns) (2.3.2.post1)\n",
      "Requirement already satisfied: lxml in /Users/quocdetran/miniforge3/lib/python3.10/site-packages (from beautifulsoup4[lxml]~=4.12->tweety-ns) (4.9.3)\n",
      "Requirement already satisfied: requests in /Users/quocdetran/miniforge3/lib/python3.10/site-packages (from 2captcha-python->tweety-ns) (2.31.0)\n",
      "Collecting py>=1.4.32 (from anticaptchaofficial->tweety-ns)\n",
      "  Downloading py-1.11.0-py2.py3-none-any.whl.metadata (2.8 kB)\n",
      "Requirement already satisfied: python-dateutil in /Users/quocdetran/miniforge3/lib/python3.10/site-packages (from dateutils->tweety-ns) (2.8.2)\n",
      "Requirement already satisfied: pytz in /Users/quocdetran/miniforge3/lib/python3.10/site-packages (from dateutils->tweety-ns) (2022.7)\n",
      "Requirement already satisfied: anyio in /Users/quocdetran/miniforge3/lib/python3.10/site-packages (from httpx[http2]->tweety-ns) (3.5.0)\n",
      "Requirement already satisfied: certifi in /Users/quocdetran/miniforge3/lib/python3.10/site-packages (from httpx[http2]->tweety-ns) (2023.7.22)\n",
      "Requirement already satisfied: httpcore==1.* in /Users/quocdetran/miniforge3/lib/python3.10/site-packages (from httpx[http2]->tweety-ns) (1.0.5)\n",
      "Requirement already satisfied: idna in /Users/quocdetran/miniforge3/lib/python3.10/site-packages (from httpx[http2]->tweety-ns) (3.4)\n",
      "Requirement already satisfied: sniffio in /Users/quocdetran/miniforge3/lib/python3.10/site-packages (from httpx[http2]->tweety-ns) (1.3.0)\n",
      "Collecting h2<5,>=3 (from httpx[http2]->tweety-ns)\n",
      "  Downloading h2-4.1.0-py3-none-any.whl.metadata (3.6 kB)\n",
      "Requirement already satisfied: h11<0.15,>=0.13 in /Users/quocdetran/miniforge3/lib/python3.10/site-packages (from httpcore==1.*->httpx[http2]->tweety-ns) (0.14.0)\n",
      "Requirement already satisfied: et-xmlfile in /Users/quocdetran/miniforge3/lib/python3.10/site-packages (from openpyxl->tweety-ns) (1.1.0)\n",
      "Collecting hyperframe<7,>=6.0 (from h2<5,>=3->httpx[http2]->tweety-ns)\n",
      "  Downloading hyperframe-6.0.1-py3-none-any.whl.metadata (2.7 kB)\n",
      "Collecting hpack<5,>=4.0 (from h2<5,>=3->httpx[http2]->tweety-ns)\n",
      "  Downloading hpack-4.0.0-py3-none-any.whl.metadata (2.5 kB)\n",
      "Requirement already satisfied: charset-normalizer<4,>=2 in /Users/quocdetran/miniforge3/lib/python3.10/site-packages (from requests->2captcha-python->tweety-ns) (3.1.0)\n",
      "Requirement already satisfied: urllib3<3,>=1.21.1 in /Users/quocdetran/miniforge3/lib/python3.10/site-packages (from requests->2captcha-python->tweety-ns) (1.26.20)\n",
      "Requirement already satisfied: six>=1.5 in /Users/quocdetran/miniforge3/lib/python3.10/site-packages (from python-dateutil->dateutils->tweety-ns) (1.15.0)\n",
      "Downloading tweety_ns-2.0.8-py3-none-any.whl (92 kB)\n",
      "\u001b[2K   \u001b[90m━━━━━━━━━━━━━━━━━━━━━━━━━━━━━━━━━━━━━━━━\u001b[0m \u001b[32m92.7/92.7 kB\u001b[0m \u001b[31m649.0 kB/s\u001b[0m eta \u001b[36m0:00:00\u001b[0m00:01\u001b[0m:01\u001b[0m\n",
      "\u001b[?25hDownloading beautifulsoup4-4.12.3-py3-none-any.whl (147 kB)\n",
      "\u001b[2K   \u001b[90m━━━━━━━━━━━━━━━━━━━━━━━━━━━━━━━━━━━━━━━━\u001b[0m \u001b[32m147.9/147.9 kB\u001b[0m \u001b[31m9.4 MB/s\u001b[0m eta \u001b[36m0:00:00\u001b[0m\n",
      "\u001b[?25hDownloading 2captcha_python-1.5.0-py3-none-any.whl (17 kB)\n",
      "Downloading anticaptchaofficial-1.0.62-py3-none-any.whl (19 kB)\n",
      "Downloading capsolver-1.0.7-py3-none-any.whl (9.4 kB)\n",
      "Downloading dateutils-0.6.12-py2.py3-none-any.whl (5.7 kB)\n",
      "Downloading python_magic-0.4.27-py2.py3-none-any.whl (13 kB)\n",
      "Downloading h2-4.1.0-py3-none-any.whl (57 kB)\n",
      "\u001b[2K   \u001b[90m━━━━━━━━━━━━━━━━━━━━━━━━━━━━━━━━━━━━━━━━\u001b[0m \u001b[32m57.5/57.5 kB\u001b[0m \u001b[31m6.0 MB/s\u001b[0m eta \u001b[36m0:00:00\u001b[0m\n",
      "\u001b[?25hDownloading py-1.11.0-py2.py3-none-any.whl (98 kB)\n",
      "\u001b[2K   \u001b[90m━━━━━━━━━━━━━━━━━━━━━━━━━━━━━━━━━━━━━━━━\u001b[0m \u001b[32m98.7/98.7 kB\u001b[0m \u001b[31m9.7 MB/s\u001b[0m eta \u001b[36m0:00:00\u001b[0m\n",
      "\u001b[?25hDownloading hpack-4.0.0-py3-none-any.whl (32 kB)\n",
      "Downloading hyperframe-6.0.1-py3-none-any.whl (12 kB)\n",
      "Installing collected packages: python-magic, py, hyperframe, hpack, beautifulsoup4, h2, dateutils, capsolver, anticaptchaofficial, 2captcha-python, tweety-ns\n",
      "  Attempting uninstall: beautifulsoup4\n",
      "    Found existing installation: beautifulsoup4 4.11.1\n",
      "    Uninstalling beautifulsoup4-4.11.1:\n",
      "      Successfully uninstalled beautifulsoup4-4.11.1\n",
      "\u001b[31mERROR: pip's dependency resolver does not currently take into account all the packages that are installed. This behaviour is the source of the following dependency conflicts.\n",
      "debuggy 3.0.1 requires requests==2.27.1, but you have requests 2.31.0 which is incompatible.\u001b[0m\u001b[31m\n",
      "\u001b[0mSuccessfully installed 2captcha-python-1.5.0 anticaptchaofficial-1.0.62 beautifulsoup4-4.12.2 capsolver-1.0.7 dateutils-0.6.12 h2-4.1.0 hpack-4.0.0 hyperframe-6.0.1 py-1.11.0 python-magic-0.4.27 tweety-ns-2.0.8\n",
      "\n",
      "\u001b[1m[\u001b[0m\u001b[34;49mnotice\u001b[0m\u001b[1;39;49m]\u001b[0m\u001b[39;49m A new release of pip is available: \u001b[0m\u001b[31;49m23.3.2\u001b[0m\u001b[39;49m -> \u001b[0m\u001b[32;49m24.3.1\u001b[0m\n",
      "\u001b[1m[\u001b[0m\u001b[34;49mnotice\u001b[0m\u001b[1;39;49m]\u001b[0m\u001b[39;49m To update, run: \u001b[0m\u001b[32;49mpip install --upgrade pip\u001b[0m\n",
      "Note: you may need to restart the kernel to use updated packages.\n",
      "Collecting https://github.com/mahrtayyab/tweety/archive/main.zip\n",
      "  Downloading https://github.com/mahrtayyab/tweety/archive/main.zip\n",
      "\u001b[2K     \u001b[32m|\u001b[0m \u001b[32m121.0 kB\u001b[0m \u001b[31m731.6 kB/s\u001b[0m \u001b[33m0:00:00\u001b[0m\n",
      "\u001b[?25h  Installing build dependencies ... \u001b[?25ldone\n",
      "\u001b[?25h  Getting requirements to build wheel ... \u001b[?25ldone\n",
      "\u001b[?25h  Preparing metadata (pyproject.toml) ... \u001b[?25ldone\n",
      "\u001b[?25hRequirement already satisfied: beautifulsoup4~=4.12 in /Users/quocdetran/miniforge3/lib/python3.10/site-packages (from beautifulsoup4[lxml]~=4.12->tweety-ns==2.0.8) (4.12.2)\n",
      "Requirement already satisfied: openpyxl in /Users/quocdetran/miniforge3/lib/python3.10/site-packages (from tweety-ns==2.0.8) (3.1.2)\n",
      "Requirement already satisfied: httpx[http2] in /Users/quocdetran/miniforge3/lib/python3.10/site-packages (from tweety-ns==2.0.8) (0.27.0)\n",
      "Requirement already satisfied: dateutils in /Users/quocdetran/miniforge3/lib/python3.10/site-packages (from tweety-ns==2.0.8) (0.6.12)\n",
      "Requirement already satisfied: anticaptchaofficial in /Users/quocdetran/miniforge3/lib/python3.10/site-packages (from tweety-ns==2.0.8) (1.0.62)\n",
      "Requirement already satisfied: capsolver in /Users/quocdetran/miniforge3/lib/python3.10/site-packages (from tweety-ns==2.0.8) (1.0.7)\n",
      "Requirement already satisfied: 2captcha-python in /Users/quocdetran/miniforge3/lib/python3.10/site-packages (from tweety-ns==2.0.8) (1.5.0)\n",
      "Requirement already satisfied: python-magic in /Users/quocdetran/miniforge3/lib/python3.10/site-packages (from tweety-ns==2.0.8) (0.4.27)\n",
      "Requirement already satisfied: soupsieve>1.2 in /Users/quocdetran/miniforge3/lib/python3.10/site-packages (from beautifulsoup4~=4.12->beautifulsoup4[lxml]~=4.12->tweety-ns==2.0.8) (2.3.2.post1)\n",
      "Requirement already satisfied: lxml in /Users/quocdetran/miniforge3/lib/python3.10/site-packages (from beautifulsoup4[lxml]~=4.12->tweety-ns==2.0.8) (4.9.3)\n",
      "Requirement already satisfied: requests in /Users/quocdetran/miniforge3/lib/python3.10/site-packages (from 2captcha-python->tweety-ns==2.0.8) (2.31.0)\n",
      "Requirement already satisfied: py>=1.4.32 in /Users/quocdetran/miniforge3/lib/python3.10/site-packages (from anticaptchaofficial->tweety-ns==2.0.8) (1.11.0)\n",
      "Requirement already satisfied: python-dateutil in /Users/quocdetran/miniforge3/lib/python3.10/site-packages (from dateutils->tweety-ns==2.0.8) (2.8.2)\n",
      "Requirement already satisfied: pytz in /Users/quocdetran/miniforge3/lib/python3.10/site-packages (from dateutils->tweety-ns==2.0.8) (2022.7)\n",
      "Requirement already satisfied: anyio in /Users/quocdetran/miniforge3/lib/python3.10/site-packages (from httpx[http2]->tweety-ns==2.0.8) (3.5.0)\n",
      "Requirement already satisfied: certifi in /Users/quocdetran/miniforge3/lib/python3.10/site-packages (from httpx[http2]->tweety-ns==2.0.8) (2023.7.22)\n",
      "Requirement already satisfied: httpcore==1.* in /Users/quocdetran/miniforge3/lib/python3.10/site-packages (from httpx[http2]->tweety-ns==2.0.8) (1.0.5)\n",
      "Requirement already satisfied: idna in /Users/quocdetran/miniforge3/lib/python3.10/site-packages (from httpx[http2]->tweety-ns==2.0.8) (3.4)\n",
      "Requirement already satisfied: sniffio in /Users/quocdetran/miniforge3/lib/python3.10/site-packages (from httpx[http2]->tweety-ns==2.0.8) (1.3.0)\n",
      "Requirement already satisfied: h2<5,>=3 in /Users/quocdetran/miniforge3/lib/python3.10/site-packages (from httpx[http2]->tweety-ns==2.0.8) (4.1.0)\n",
      "Requirement already satisfied: h11<0.15,>=0.13 in /Users/quocdetran/miniforge3/lib/python3.10/site-packages (from httpcore==1.*->httpx[http2]->tweety-ns==2.0.8) (0.14.0)\n",
      "Requirement already satisfied: et-xmlfile in /Users/quocdetran/miniforge3/lib/python3.10/site-packages (from openpyxl->tweety-ns==2.0.8) (1.1.0)\n",
      "Requirement already satisfied: hyperframe<7,>=6.0 in /Users/quocdetran/miniforge3/lib/python3.10/site-packages (from h2<5,>=3->httpx[http2]->tweety-ns==2.0.8) (6.0.1)\n",
      "Requirement already satisfied: hpack<5,>=4.0 in /Users/quocdetran/miniforge3/lib/python3.10/site-packages (from h2<5,>=3->httpx[http2]->tweety-ns==2.0.8) (4.0.0)\n",
      "Requirement already satisfied: charset-normalizer<4,>=2 in /Users/quocdetran/miniforge3/lib/python3.10/site-packages (from requests->2captcha-python->tweety-ns==2.0.8) (3.1.0)\n",
      "Requirement already satisfied: urllib3<3,>=1.21.1 in /Users/quocdetran/miniforge3/lib/python3.10/site-packages (from requests->2captcha-python->tweety-ns==2.0.8) (1.26.20)\n",
      "Requirement already satisfied: six>=1.5 in /Users/quocdetran/miniforge3/lib/python3.10/site-packages (from python-dateutil->dateutils->tweety-ns==2.0.8) (1.15.0)\n",
      "\n",
      "\u001b[1m[\u001b[0m\u001b[34;49mnotice\u001b[0m\u001b[1;39;49m]\u001b[0m\u001b[39;49m A new release of pip is available: \u001b[0m\u001b[31;49m23.3.2\u001b[0m\u001b[39;49m -> \u001b[0m\u001b[32;49m24.3.1\u001b[0m\n",
      "\u001b[1m[\u001b[0m\u001b[34;49mnotice\u001b[0m\u001b[1;39;49m]\u001b[0m\u001b[39;49m To update, run: \u001b[0m\u001b[32;49mpip install --upgrade pip\u001b[0m\n",
      "Note: you may need to restart the kernel to use updated packages.\n"
     ]
    }
   ],
   "source": [
    "%pip install tweety-ns\n",
    "%pip install https://github.com/mahrtayyab/tweety/archive/main.zip --upgrade "
   ]
  },
  {
   "cell_type": "code",
   "execution_count": 1,
   "metadata": {},
   "outputs": [],
   "source": [
    "import asyncio\n",
    "import csv\n",
    "from twitter_search import read_keywords_from_file, run_search_user, filter_users, login,crawl_tweets_from_KOLs"
   ]
  },
  {
   "cell_type": "markdown",
   "metadata": {},
   "source": [
    "# Search user by keyword and save to csv"
   ]
  },
  {
   "cell_type": "code",
   "execution_count": 2,
   "metadata": {},
   "outputs": [
    {
     "name": "stdout",
     "output_type": "stream",
     "text": [
      "['Web3', 'weeb3', 'Decentralized', 'Blockchain', 'Cryptocurrency', 'Crypto', 'DeFi', 'NFT', 'Non-Fungible Token', 'Dapp', 'Decentralized Application', 'Smart contract', 'Ethereum', 'Solana', 'Solidity', 'Rust', 'zk-SNARK', 'EVM', 'Ethereum Virtual Machine', 'Cross-chain', 'Tokenomics', 'zk-rollup', 'Proof of Stake', 'Proof of Work', 'Layer-1 Protocols', 'Layer-2 Protocols', 'Liquidity Mining', 'Yield Farming', 'Automated Market Maker', 'Decentralized Exchanges', 'DEX', 'Staking Rewards', 'Lending Protocols', 'Stablecoin', 'On-chain Trading', 'Cosmos', 'Smart Wallet', 'Multisig Wallet', 'Web3Gaming', 'Decentralization', 'CryptoInvesting', 'DeFiProtocols', 'TokenEngineering', 'SHIB', 'Shiba Inu', 'DAI', 'Dai', 'Render Token', 'ARB', 'Arbitrum', 'Mantle', 'Worldcoin', 'Ondo', 'USDT', 'Tether', 'BNB', 'DOGE', 'Dogecoin', 'Cardano', 'USDC', 'USD Coin', 'TRX', 'TRON', 'AVAX', 'Avalanche', 'Chainlink', 'Polkadot']\n"
     ]
    }
   ],
   "source": [
    "app = await login()\n",
    "# Run the search and save function\n",
    "keywords = read_keywords_from_file(\"keywords.txt\")\n",
    "print(keywords)"
   ]
  },
  {
   "cell_type": "code",
   "execution_count": 3,
   "metadata": {},
   "outputs": [
    {
     "data": {
      "text/plain": [
       "67"
      ]
     },
     "execution_count": 3,
     "metadata": {},
     "output_type": "execute_result"
    }
   ],
   "source": [
    "len(keywords)"
   ]
  },
  {
   "cell_type": "code",
   "execution_count": 4,
   "metadata": {},
   "outputs": [
    {
     "ename": "RateLimitReached",
     "evalue": "[88] Rate limit exceeded\n",
     "output_type": "error",
     "traceback": [
      "\u001b[0;31m---------------------------------------------------------------------------\u001b[0m",
      "\u001b[0;31mRateLimitReached\u001b[0m                          Traceback (most recent call last)",
      "Cell \u001b[0;32mIn[4], line 1\u001b[0m\n\u001b[0;32m----> 1\u001b[0m \u001b[38;5;28;01mawait\u001b[39;00m run_search_user(keywords[\u001b[38;5;241m35\u001b[39m:\u001b[38;5;241m51\u001b[39m], app, pages_num \u001b[38;5;241m=\u001b[39m \u001b[38;5;241m1\u001b[39m, wait_times \u001b[38;5;241m=\u001b[39m \u001b[38;5;241m2\u001b[39m, cursor_ \u001b[38;5;241m=\u001b[39m \u001b[38;5;28;01mNone\u001b[39;00m)\n",
      "File \u001b[0;32m~/Desktop/BA/twitter_search.py:26\u001b[0m, in \u001b[0;36mrun_search_user\u001b[0;34m(keywords, app, pages_num, wait_times, cursor_)\u001b[0m\n\u001b[1;32m     24\u001b[0m \u001b[38;5;28;01masync\u001b[39;00m \u001b[38;5;28;01mdef\u001b[39;00m \u001b[38;5;21mrun_search_user\u001b[39m(keywords, app, pages_num\u001b[38;5;241m=\u001b[39m\u001b[38;5;241m1\u001b[39m,wait_times\u001b[38;5;241m=\u001b[39m\u001b[38;5;241m2\u001b[39m,cursor_\u001b[38;5;241m=\u001b[39m\u001b[38;5;28;01mNone\u001b[39;00m):\n\u001b[1;32m     25\u001b[0m     \u001b[38;5;28;01mfor\u001b[39;00m keyword \u001b[38;5;129;01min\u001b[39;00m keywords:\n\u001b[0;32m---> 26\u001b[0m         results \u001b[38;5;241m=\u001b[39m \u001b[38;5;28;01mawait\u001b[39;00m app\u001b[38;5;241m.\u001b[39msearch(keyword, pages\u001b[38;5;241m=\u001b[39mpages_num, wait_time \u001b[38;5;241m=\u001b[39m wait_times, cursor \u001b[38;5;241m=\u001b[39m cursor_, filter_\u001b[38;5;241m=\u001b[39m SearchFilters\u001b[38;5;241m.\u001b[39mUsers())\n\u001b[1;32m     28\u001b[0m         \u001b[38;5;66;03m# Specify the CSV file name for each keyword\u001b[39;00m\n\u001b[1;32m     29\u001b[0m         csv_file \u001b[38;5;241m=\u001b[39m \u001b[38;5;124mf\u001b[39m\u001b[38;5;124m\"\u001b[39m\u001b[38;5;124mtwitter_users_\u001b[39m\u001b[38;5;132;01m{\u001b[39;00mkeyword\u001b[38;5;132;01m}\u001b[39;00m\u001b[38;5;124m.csv\u001b[39m\u001b[38;5;124m\"\u001b[39m\n",
      "File \u001b[0;32m~/miniforge3/lib/python3.10/site-packages/tweety/utils.py:74\u001b[0m, in \u001b[0;36mAuthRequired.<locals>.method_async_wrapper_decorator.<locals>.wrapper\u001b[0;34m(self, *args, **kwargs)\u001b[0m\n\u001b[1;32m     71\u001b[0m \u001b[38;5;28;01mif\u001b[39;00m \u001b[38;5;28mself\u001b[39m\u001b[38;5;241m.\u001b[39mme \u001b[38;5;129;01mis\u001b[39;00m \u001b[38;5;28;01mNone\u001b[39;00m:\n\u001b[1;32m     72\u001b[0m     \u001b[38;5;28;01mraise\u001b[39;00m AuthenticationRequired(\u001b[38;5;241m200\u001b[39m, \u001b[38;5;124m\"\u001b[39m\u001b[38;5;124mGenericForbidden\u001b[39m\u001b[38;5;124m\"\u001b[39m, \u001b[38;5;28;01mNone\u001b[39;00m)\n\u001b[0;32m---> 74\u001b[0m \u001b[38;5;28;01mreturn\u001b[39;00m \u001b[38;5;28;01mawait\u001b[39;00m func(\u001b[38;5;28mself\u001b[39m, \u001b[38;5;241m*\u001b[39margs, \u001b[38;5;241m*\u001b[39m\u001b[38;5;241m*\u001b[39mkwargs)\n",
      "File \u001b[0;32m~/miniforge3/lib/python3.10/site-packages/tweety/bot.py:418\u001b[0m, in \u001b[0;36mBotMethods.search\u001b[0;34m(self, keyword, pages, filter_, wait_time, cursor)\u001b[0m\n\u001b[1;32m    403\u001b[0m \u001b[38;5;250m\u001b[39m\u001b[38;5;124;03m\"\"\"\u001b[39;00m\n\u001b[1;32m    404\u001b[0m \u001b[38;5;124;03mSearch for a keyword or hashtag on Twitter\u001b[39;00m\n\u001b[1;32m    405\u001b[0m \n\u001b[0;32m   (...)\u001b[0m\n\u001b[1;32m    413\u001b[0m \u001b[38;5;124;03m:return: .types.search.Search\u001b[39;00m\n\u001b[1;32m    414\u001b[0m \u001b[38;5;124;03m\"\"\"\u001b[39;00m\n\u001b[1;32m    416\u001b[0m search \u001b[38;5;241m=\u001b[39m Search(keyword, \u001b[38;5;28mself\u001b[39m, pages, filter_, wait_time, cursor)\n\u001b[0;32m--> 418\u001b[0m \u001b[38;5;28;01mreturn\u001b[39;00m \u001b[38;5;28;01mawait\u001b[39;00m async_list(search)\n",
      "File \u001b[0;32m~/miniforge3/lib/python3.10/site-packages/tweety/utils.py:128\u001b[0m, in \u001b[0;36masync_list\u001b[0;34m(generator_base_object)\u001b[0m\n\u001b[1;32m    127\u001b[0m \u001b[38;5;28;01masync\u001b[39;00m \u001b[38;5;28;01mdef\u001b[39;00m \u001b[38;5;21masync_list\u001b[39m(generator_base_object):\n\u001b[0;32m--> 128\u001b[0m     \u001b[38;5;28;01masync\u001b[39;00m \u001b[38;5;28;01mfor\u001b[39;00m _ \u001b[38;5;129;01min\u001b[39;00m generator_base_object\u001b[38;5;241m.\u001b[39mgenerator():\n\u001b[1;32m    129\u001b[0m         \u001b[38;5;28;01mpass\u001b[39;00m\n\u001b[1;32m    130\u001b[0m     \u001b[38;5;28;01mreturn\u001b[39;00m generator_base_object\n",
      "File \u001b[0;32m~/miniforge3/lib/python3.10/site-packages/tweety/types/base.py:62\u001b[0m, in \u001b[0;36mBaseGeneratorClass.generator\u001b[0;34m(self)\u001b[0m\n\u001b[1;32m     60\u001b[0m \u001b[38;5;28;01mwhile\u001b[39;00m this_page \u001b[38;5;241m!=\u001b[39m \u001b[38;5;28mint\u001b[39m(\u001b[38;5;28mself\u001b[39m\u001b[38;5;241m.\u001b[39mpages):\n\u001b[1;32m     61\u001b[0m     \u001b[38;5;28;01mtry\u001b[39;00m:\n\u001b[0;32m---> 62\u001b[0m         results \u001b[38;5;241m=\u001b[39m \u001b[38;5;28;01mawait\u001b[39;00m \u001b[38;5;28mself\u001b[39m\u001b[38;5;241m.\u001b[39mget_next_page()\n\u001b[1;32m     64\u001b[0m         \u001b[38;5;28;01mif\u001b[39;00m \u001b[38;5;28mlen\u001b[39m(results) \u001b[38;5;241m==\u001b[39m \u001b[38;5;241m0\u001b[39m:\n\u001b[1;32m     65\u001b[0m             \u001b[38;5;28;01mbreak\u001b[39;00m\n",
      "File \u001b[0;32m~/miniforge3/lib/python3.10/site-packages/tweety/types/base.py:36\u001b[0m, in \u001b[0;36mBaseGeneratorClass.get_next_page\u001b[0;34m(self, cursor)\u001b[0m\n\u001b[1;32m     32\u001b[0m     \u001b[38;5;28;01mreturn\u001b[39;00m []\n\u001b[1;32m     34\u001b[0m cursor \u001b[38;5;241m=\u001b[39m cursor \u001b[38;5;28;01mif\u001b[39;00m cursor \u001b[38;5;241m!=\u001b[39m \u001b[38;5;241m0\u001b[39m \u001b[38;5;28;01melse\u001b[39;00m \u001b[38;5;28mself\u001b[39m\u001b[38;5;241m.\u001b[39mcursor\n\u001b[0;32m---> 36\u001b[0m results, cursor, cursor_top \u001b[38;5;241m=\u001b[39m \u001b[38;5;28;01mawait\u001b[39;00m \u001b[38;5;28mself\u001b[39m\u001b[38;5;241m.\u001b[39mget_page(cursor)\n\u001b[1;32m     37\u001b[0m \u001b[38;5;28mself\u001b[39m\u001b[38;5;241m.\u001b[39mis_next_page \u001b[38;5;241m=\u001b[39m \u001b[38;5;28mself\u001b[39m\u001b[38;5;241m.\u001b[39m_has_next_page(cursor)\n\u001b[1;32m     38\u001b[0m \u001b[38;5;28mself\u001b[39m\u001b[38;5;241m.\u001b[39mcursor, \u001b[38;5;28mself\u001b[39m\u001b[38;5;241m.\u001b[39mcursor_top \u001b[38;5;241m=\u001b[39m cursor, cursor_top\n",
      "File \u001b[0;32m~/miniforge3/lib/python3.10/site-packages/tweety/types/search.py:40\u001b[0m, in \u001b[0;36mSearch.get_page\u001b[0;34m(self, cursor)\u001b[0m\n\u001b[1;32m     38\u001b[0m \u001b[38;5;28;01masync\u001b[39;00m \u001b[38;5;28;01mdef\u001b[39;00m \u001b[38;5;21mget_page\u001b[39m(\u001b[38;5;28mself\u001b[39m, cursor):\n\u001b[1;32m     39\u001b[0m     thisObjects \u001b[38;5;241m=\u001b[39m []\n\u001b[0;32m---> 40\u001b[0m     response \u001b[38;5;241m=\u001b[39m \u001b[38;5;28;01mawait\u001b[39;00m \u001b[38;5;28mself\u001b[39m\u001b[38;5;241m.\u001b[39mclient\u001b[38;5;241m.\u001b[39mhttp\u001b[38;5;241m.\u001b[39mperform_search(\u001b[38;5;28mself\u001b[39m\u001b[38;5;241m.\u001b[39mkeyword, cursor, \u001b[38;5;28mself\u001b[39m\u001b[38;5;241m.\u001b[39mfilter)\n\u001b[1;32m     41\u001b[0m     entries \u001b[38;5;241m=\u001b[39m \u001b[38;5;28mself\u001b[39m\u001b[38;5;241m.\u001b[39m_get_entries(response)\n\u001b[1;32m     43\u001b[0m     \u001b[38;5;28;01mif\u001b[39;00m \u001b[38;5;28mself\u001b[39m\u001b[38;5;241m.\u001b[39mfilter \u001b[38;5;241m==\u001b[39m SearchFilters\u001b[38;5;241m.\u001b[39mLists:\n",
      "File \u001b[0;32m~/miniforge3/lib/python3.10/site-packages/tweety/http.py:392\u001b[0m, in \u001b[0;36mRequest.perform_search\u001b[0;34m(self, keyword, cursor, filter_)\u001b[0m\n\u001b[1;32m    390\u001b[0m keyword \u001b[38;5;241m=\u001b[39m quote(keyword, safe\u001b[38;5;241m=\u001b[39m\u001b[38;5;124m'\u001b[39m\u001b[38;5;124m\"\u001b[39m\u001b[38;5;124m()\u001b[39m\u001b[38;5;124m%\u001b[39m\u001b[38;5;124m'\u001b[39m)\n\u001b[1;32m    391\u001b[0m request_data \u001b[38;5;241m=\u001b[39m \u001b[38;5;28mself\u001b[39m\u001b[38;5;241m.\u001b[39m_builder\u001b[38;5;241m.\u001b[39msearch(keyword, cursor, filter_)\n\u001b[0;32m--> 392\u001b[0m response \u001b[38;5;241m=\u001b[39m \u001b[38;5;28;01mawait\u001b[39;00m \u001b[38;5;28mself\u001b[39m\u001b[38;5;241m.\u001b[39m__get_response__(\u001b[38;5;241m*\u001b[39m\u001b[38;5;241m*\u001b[39mrequest_data)\n\u001b[1;32m    393\u001b[0m \u001b[38;5;28;01mreturn\u001b[39;00m response\n",
      "File \u001b[0;32m~/miniforge3/lib/python3.10/site-packages/tweety/http.py:242\u001b[0m, in \u001b[0;36mRequest.__get_response__\u001b[0;34m(self, return_raw, ignore_none_data, is_document, **request_data)\u001b[0m\n\u001b[1;32m    234\u001b[0m     error_message \u001b[38;5;241m=\u001b[39m error\u001b[38;5;241m.\u001b[39mget(\u001b[38;5;124m\"\u001b[39m\u001b[38;5;124mmessage\u001b[39m\u001b[38;5;124m\"\u001b[39m)\n\u001b[1;32m    236\u001b[0m     \u001b[38;5;66;03m# Twitter Captcha solving is a bit unstable , removing it till fixed \u001b[39;00m\n\u001b[1;32m    237\u001b[0m     \n\u001b[1;32m    238\u001b[0m     \u001b[38;5;66;03m# if int(error_code) in [326] and self._captcha_solver:\u001b[39;00m\n\u001b[1;32m    239\u001b[0m     \u001b[38;5;66;03m#    self.solve_captcha()\u001b[39;00m\n\u001b[1;32m    240\u001b[0m     \u001b[38;5;66;03m#    return self.__get_response__(return_raw, ignore_none_data, is_document, **request_data)\u001b[39;00m\n\u001b[0;32m--> 242\u001b[0m     \u001b[38;5;28;01mreturn\u001b[39;00m \u001b[43mGenericError\u001b[49m\u001b[43m(\u001b[49m\u001b[43mresponse\u001b[49m\u001b[43m,\u001b[49m\u001b[43m \u001b[49m\u001b[43merror_code\u001b[49m\u001b[43m,\u001b[49m\u001b[43m \u001b[49m\u001b[43merror_message\u001b[49m\u001b[43m)\u001b[49m\n\u001b[1;32m    244\u001b[0m \u001b[38;5;28;01mif\u001b[39;00m return_raw:\n\u001b[1;32m    245\u001b[0m     \u001b[38;5;28;01mreturn\u001b[39;00m response\n",
      "File \u001b[0;32m~/miniforge3/lib/python3.10/site-packages/tweety/types/n_types.py:66\u001b[0m, in \u001b[0;36mGenericError.__init__\u001b[0;34m(self, response, error_code, message)\u001b[0m\n\u001b[1;32m     64\u001b[0m \u001b[38;5;28mself\u001b[39m\u001b[38;5;241m.\u001b[39mmessage \u001b[38;5;241m=\u001b[39m message\n\u001b[1;32m     65\u001b[0m \u001b[38;5;28mself\u001b[39m\u001b[38;5;241m.\u001b[39mretry_after \u001b[38;5;241m=\u001b[39m \u001b[38;5;28mself\u001b[39m\u001b[38;5;241m.\u001b[39m_get_retry_after()\n\u001b[0;32m---> 66\u001b[0m \u001b[38;5;28;43mself\u001b[39;49m\u001b[38;5;241;43m.\u001b[39;49m\u001b[43m_raise_exception\u001b[49m\u001b[43m(\u001b[49m\u001b[43m)\u001b[49m\n",
      "File \u001b[0;32m~/miniforge3/lib/python3.10/site-packages/tweety/types/n_types.py:78\u001b[0m, in \u001b[0;36mGenericError._raise_exception\u001b[0;34m(self)\u001b[0m\n\u001b[1;32m     76\u001b[0m \u001b[38;5;28;01mdef\u001b[39;00m \u001b[38;5;21m_raise_exception\u001b[39m(\u001b[38;5;28mself\u001b[39m):\n\u001b[1;32m     77\u001b[0m     \u001b[38;5;28;01mif\u001b[39;00m \u001b[38;5;28mself\u001b[39m\u001b[38;5;241m.\u001b[39mEXCEPTIONS\u001b[38;5;241m.\u001b[39mget(\u001b[38;5;28mself\u001b[39m\u001b[38;5;241m.\u001b[39merror_code):\n\u001b[0;32m---> 78\u001b[0m         \u001b[38;5;28;01mraise\u001b[39;00m \u001b[38;5;28mself\u001b[39m\u001b[38;5;241m.\u001b[39mEXCEPTIONS[\u001b[38;5;28mself\u001b[39m\u001b[38;5;241m.\u001b[39merror_code](\n\u001b[1;32m     79\u001b[0m             error_code\u001b[38;5;241m=\u001b[39m\u001b[38;5;28mself\u001b[39m\u001b[38;5;241m.\u001b[39merror_code,\n\u001b[1;32m     80\u001b[0m             error_name\u001b[38;5;241m=\u001b[39mTWITTER_ERRORS[\u001b[38;5;28mself\u001b[39m\u001b[38;5;241m.\u001b[39merror_code],\n\u001b[1;32m     81\u001b[0m             response\u001b[38;5;241m=\u001b[39m\u001b[38;5;28mself\u001b[39m\u001b[38;5;241m.\u001b[39mresponse,\n\u001b[1;32m     82\u001b[0m             message\u001b[38;5;241m=\u001b[39m\u001b[38;5;28mself\u001b[39m\u001b[38;5;241m.\u001b[39mmessage,\n\u001b[1;32m     83\u001b[0m             retry_after\u001b[38;5;241m=\u001b[39m\u001b[38;5;28mself\u001b[39m\u001b[38;5;241m.\u001b[39mretry_after\n\u001b[1;32m     84\u001b[0m         )\n\u001b[1;32m     86\u001b[0m     \u001b[38;5;28;01mraise\u001b[39;00m TwitterError(\n\u001b[1;32m     87\u001b[0m         error_code\u001b[38;5;241m=\u001b[39m\u001b[38;5;28mself\u001b[39m\u001b[38;5;241m.\u001b[39merror_code,\n\u001b[1;32m     88\u001b[0m         error_name\u001b[38;5;241m=\u001b[39mTWITTER_ERRORS\u001b[38;5;241m.\u001b[39mget(\u001b[38;5;28mself\u001b[39m\u001b[38;5;241m.\u001b[39merror_code, \u001b[38;5;241m0\u001b[39m),\n\u001b[1;32m     89\u001b[0m         response\u001b[38;5;241m=\u001b[39m\u001b[38;5;28mself\u001b[39m\u001b[38;5;241m.\u001b[39mresponse,\n\u001b[1;32m     90\u001b[0m         message\u001b[38;5;241m=\u001b[39m\u001b[38;5;124m\"\u001b[39m\u001b[38;5;124m[\u001b[39m\u001b[38;5;132;01m{}\u001b[39;00m\u001b[38;5;124m] \u001b[39m\u001b[38;5;132;01m{}\u001b[39;00m\u001b[38;5;124m\"\u001b[39m\u001b[38;5;241m.\u001b[39mformat(\u001b[38;5;28mself\u001b[39m\u001b[38;5;241m.\u001b[39merror_code, \u001b[38;5;28mself\u001b[39m\u001b[38;5;241m.\u001b[39mmessage)\n\u001b[1;32m     91\u001b[0m     )\n",
      "\u001b[0;31mRateLimitReached\u001b[0m: [88] Rate limit exceeded\n"
     ]
    }
   ],
   "source": [
    "await run_search_user(keywords[35:51], app, pages_num = 1, wait_times = 2, cursor_ = None) #cusor is the page that looking up-to"
   ]
  },
  {
   "cell_type": "markdown",
   "metadata": {},
   "source": [
    "# filter user"
   ]
  },
  {
   "cell_type": "code",
   "execution_count": 2,
   "metadata": {},
   "outputs": [
    {
     "name": "stdout",
     "output_type": "stream",
     "text": [
      "Filtered users saved to filtered_twitter_users.csv\n"
     ]
    }
   ],
   "source": [
    "filter_users(keywords)"
   ]
  },
  {
   "cell_type": "markdown",
   "metadata": {},
   "source": [
    "# Crawl tweet\n"
   ]
  },
  {
   "cell_type": "code",
   "execution_count": null,
   "metadata": {},
   "outputs": [],
   "source": [
    "# # Basic Tweet Information\n",
    "# 'id': int                # The unique ID of the tweet (assigned by Twitter).\n",
    "# 'created_on': datetime   # The date and time when the tweet was created.\n",
    "# 'date': datetime         # The date and time when the tweet was created (same as created_on).\n",
    "\n",
    "# # Main Content of the Tweet\n",
    "# 'text': str              # The text content of the tweet (original text).\n",
    "# 'rich_text': RichText    # The rich text content (if any), which may include HTML formatting or other styles.\n",
    "# 'author': User           # The user object containing information about the tweet's author (e.g., username, ID, etc.).\n",
    "\n",
    "# # Tweet Interaction (Retweets, Quotes, Replies)\n",
    "# 'is_retweet': bool              # If `True`, the tweet is a retweet of another tweet.\n",
    "# 'retweeted_tweet_id': int       # The ID of the original tweet that was retweeted (if applicable).\n",
    "# 'is_quoted': bool               # If `True`, the tweet is a quoted tweet.\n",
    "# 'quoted_tweet_id': int          # The ID of the tweet that was quoted (if applicable).\n",
    "# 'is_reply': bool                # If `True`, the tweet is a reply to another tweet.\n",
    "# 'replied_to': Tweet | str       # The tweet being replied to (if applicable), or the user ID if it is a reply to a user.\n",
    "\n",
    "# # Sensitive Content Information\n",
    "# 'is_sensitive': bool            # If `True`, the tweet contains sensitive content (e.g., graphic images, NSFW).\n",
    "\n",
    "# # Engagement Metrics\n",
    "# 'reply_counts': int            # The number of times someone has replied to this tweet.\n",
    "# 'quote_counts': int            # The number of times this tweet has been quoted.\n",
    "# 'bookmark_count': int          # The number of times this tweet has been bookmarked.\n",
    "# 'views': int                   # The number of times this tweet has been viewed.\n",
    "# 'likes': int                   # The number of likes (favorites) this tweet has received.\n",
    "# 'language': str                # The language of the tweet as identified by Twitter (e.g., 'en' for English).\n",
    "# 'place': Place                 # The location or place associated with the tweet, if available.\n",
    "\n",
    "# # Retweet Information\n",
    "# 'retweet_counts': int          # The number of times this tweet has been retweeted.\n",
    "\n",
    "# # Source and Moderation Information\n",
    "# 'source': str                  # The source application used to post the tweet (e.g., \"Twitter Web App\").\n",
    "# 'has_moderated_replies': bool  # If `True`, replies to the tweet are moderated by the author.\n",
    "\n",
    "# # User Interaction Information\n",
    "# 'is_liked': bool               # If `True`, the authenticated user has liked this tweet.\n",
    "# 'is_retweeted': bool           # If `True`, the authenticated user has retweeted this tweet.\n",
    "# 'can_reply': bool              # If `True`, the authenticated user is allowed to reply to this tweet.\n",
    "\n",
    "# # Broadcast and Edit Information\n",
    "# 'broadcast': Broadcast | None  # Information about the broadcast (if the tweet is part of a broadcast).\n",
    "# 'edit_control': EditControl | None  # Information about the tweet's edit control (if it has been edited).\n",
    "# 'has_newer_version': bool      # If `True`, this tweet has been edited, and there is a newer version of it.\n",
    "\n",
    "# # Additional Tweet Metadata\n",
    "# 'audio_space_id': str          # The ID of the Audio Space associated with the tweet (if applicable).\n",
    "# 'pool': Pool | None            # The pool associated with the tweet (if applicable).\n",
    "# 'community': Community | None  # The community this tweet is a part of (if applicable).\n",
    "\n",
    "# # Media and Mentions\n",
    "# 'media': list[Media]          # A list of media objects (e.g., images, videos) attached to the tweet.\n",
    "# 'user_mentions': list[ShortUser]  # A list of users mentioned in the tweet.\n",
    "# 'urls': list[URL]             # A list of URLs mentioned in the tweet.\n",
    "# 'hashtags': list[Hashtag]      # A list of hashtags mentioned in the tweet.\n",
    "# 'symbols': list[Symbol]       # A list of symbols (e.g., stock symbols) mentioned in the tweet.\n",
    "\n",
    "# # Community and Thread Information\n",
    "# 'community_note': str | None   # A community note posted in response to the tweet (if applicable).\n",
    "# 'url': str                     # The URL of the tweet.\n",
    "# 'threads': list[Tweet]         # A list of tweets in the thread of this tweet.\n",
    "# 'comments': list[ConversationThread]  # A list of replies or comments sent in response to this tweet.\n"
   ]
  },
  {
   "cell_type": "code",
   "execution_count": 3,
   "metadata": {},
   "outputs": [
    {
     "ename": "NameError",
     "evalue": "name 'crawl_tweets_from_csv' is not defined",
     "output_type": "error",
     "traceback": [
      "\u001b[1;31m---------------------------------------------------------------------------\u001b[0m",
      "\u001b[1;31mNameError\u001b[0m                                 Traceback (most recent call last)",
      "Cell \u001b[1;32mIn[3], line 3\u001b[0m\n\u001b[0;32m      1\u001b[0m input_file_path \u001b[38;5;241m=\u001b[39m \u001b[38;5;124m\"\u001b[39m\u001b[38;5;124mfiltered_twitter_users.csv\u001b[39m\u001b[38;5;124m\"\u001b[39m\n\u001b[0;32m      2\u001b[0m output_file_path \u001b[38;5;241m=\u001b[39m\u001b[38;5;124m\"\u001b[39m\u001b[38;5;124mfinal_tweet.csv\u001b[39m\u001b[38;5;124m\"\u001b[39m\n\u001b[1;32m----> 3\u001b[0m \u001b[38;5;28;01mawait\u001b[39;00m \u001b[43mcrawl_tweets_from_csv\u001b[49m(input_file_path, output_file_path, app, pages\u001b[38;5;241m=\u001b[39m\u001b[38;5;241m1\u001b[39m, replies\u001b[38;5;241m=\u001b[39m\u001b[38;5;28;01mFalse\u001b[39;00m, wait_time\u001b[38;5;241m=\u001b[39m\u001b[38;5;241m2\u001b[39m, cursor\u001b[38;5;241m=\u001b[39m\u001b[38;5;28;01mNone\u001b[39;00m)\n",
      "\u001b[1;31mNameError\u001b[0m: name 'crawl_tweets_from_csv' is not defined"
     ]
    }
   ],
   "source": [
    "\n",
    "input_file_path = \"filtered_twitter_users.csv\"\n",
    "output_file_path =\"final_tweet.csv\"\n",
    "await crawl_tweets_from_KOLs(input_file_path, output_file_path, app, pages=1, replies=False, wait_time=2, cursor=None)"
   ]
  }
 ],
 "metadata": {
  "kernelspec": {
   "display_name": "base",
   "language": "python",
   "name": "python3"
  },
  "language_info": {
   "codemirror_mode": {
    "name": "ipython",
    "version": 3
   },
   "file_extension": ".py",
   "mimetype": "text/x-python",
   "name": "python",
   "nbconvert_exporter": "python",
   "pygments_lexer": "ipython3",
   "version": "3.10.8"
  }
 },
 "nbformat": 4,
 "nbformat_minor": 2
}
